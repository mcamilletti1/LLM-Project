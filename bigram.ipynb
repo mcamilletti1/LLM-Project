{
 "cells": [
  {
   "cell_type": "code",
   "execution_count": 125,
   "metadata": {},
   "outputs": [
    {
     "name": "stdout",
     "output_type": "stream",
     "text": [
      "cpu\n"
     ]
    }
   ],
   "source": [
    "import torch\n",
    "import torch.nn as nn\n",
    "from torch.nn import functional as F\n",
    "device = 'cuda' if torch.cuda.is_available() else 'cpu'\n",
    "print(device)\n",
    "block_size = 8\n",
    "batch_size = 4\n",
    "max_iters = 1000\n",
    "learning_rate = 3e-4\n",
    "eval_iters = 250"
   ]
  },
  {
   "cell_type": "code",
   "execution_count": 126,
   "metadata": {},
   "outputs": [
    {
     "name": "stdout",
     "output_type": "stream",
     "text": [
      "['\\n', ' ', '!', '&', '(', ')', ',', '-', '.', '0', '1', '9', ':', ';', '?', 'A', 'B', 'C', 'D', 'E', 'F', 'G', 'H', 'I', 'J', 'K', 'L', 'M', 'N', 'O', 'P', 'Q', 'R', 'S', 'T', 'U', 'V', 'W', 'X', 'Y', 'Z', 'a', 'b', 'c', 'd', 'e', 'f', 'g', 'h', 'i', 'j', 'k', 'l', 'm', 'n', 'o', 'p', 'q', 'r', 's', 't', 'u', 'v', 'w', 'x', 'y', 'z', '—', '‘', '’', '“', '”']\n"
     ]
    }
   ],
   "source": [
    "with open('wizard_of_oz.txt', 'r', encoding='utf-8') as f:\n",
    "    text = f.read()\n",
    "chars = sorted(set(text))\n",
    "print(chars)\n",
    "vocab_size = len(chars)"
   ]
  },
  {
   "cell_type": "code",
   "execution_count": 127,
   "metadata": {},
   "outputs": [
    {
     "name": "stdout",
     "output_type": "stream",
     "text": [
      "tensor([34, 48, 45,  1, 37, 55, 54, 44, 45, 58, 46, 61, 52,  1, 37, 49, 66, 41,\n",
      "        58, 44,  1, 55, 46,  1, 29, 66,  0,  0, 42, 65,  1, 26,  8,  1, 20, 58,\n",
      "        41, 54, 51,  1, 16, 41, 61, 53,  0,  0,  0, 34, 48, 49, 59,  1, 42, 55,\n",
      "        55, 51,  1, 49, 59,  1, 44, 45, 44, 49, 43, 41, 60, 45, 44,  1, 60, 55,\n",
      "         1, 53, 65,  1, 47, 55, 55, 44,  1, 46, 58, 49, 45, 54, 44,  1,  3,  1,\n",
      "        43, 55, 53, 58, 41, 44, 45,  0, 27, 65])\n"
     ]
    }
   ],
   "source": [
    "string_to_int = { ch:i for i, ch in enumerate(chars) }\n",
    "int_to_string = { i:ch for i, ch in enumerate(chars) }\n",
    "encode = lambda s: [string_to_int[c] for c in s]\n",
    "decode = lambda l: ''.join([int_to_string[i] for i in l])\n",
    "\n",
    "data = torch.tensor(encode(text), dtype=torch.long)\n",
    "print(data[:100])"
   ]
  },
  {
   "cell_type": "code",
   "execution_count": 128,
   "metadata": {},
   "outputs": [
    {
     "name": "stdout",
     "output_type": "stream",
     "text": [
      "inputs:\n",
      "tensor([[58, 65,  6,  1, 49, 54,  1, 59],\n",
      "        [54, 47,  1, 42, 65,  1, 41,  1],\n",
      "        [52, 49, 60, 60, 52, 45,  1, 41],\n",
      "        [53, 41, 65,  1, 43, 55, 53, 45]])\n",
      "targets:\n",
      "tensor([[65,  6,  1, 49, 54,  1, 59, 55],\n",
      "        [47,  1, 42, 65,  1, 41,  1, 63],\n",
      "        [49, 60, 60, 52, 45,  1, 41, 54],\n",
      "        [41, 65,  1, 43, 55, 53, 45,  1]])\n"
     ]
    }
   ],
   "source": [
    "n = int(0.8*len(data))\n",
    "train_data = data[:n]\n",
    "val_data = data[n:]\n",
    "\n",
    "def get_batch(split):\n",
    "    data = train_data if split == 'train' else val_data\n",
    "    ix = torch.randint(len(data) - block_size - 1, (batch_size,))\n",
    "    x = torch.stack([data[i:i+block_size] for i in ix])\n",
    "    y = torch.stack([data[i+1:i+block_size+1] for i in ix])\n",
    "    x, y = x.to(device), y.to(device)\n",
    "    return x, y\n",
    "\n",
    "x, y = get_batch('train')\n",
    "print('inputs:')\n",
    "print(x)\n",
    "print('targets:')\n",
    "print(y)"
   ]
  },
  {
   "cell_type": "code",
   "execution_count": 129,
   "metadata": {},
   "outputs": [],
   "source": [
    "@torch.no_grad()\n",
    "def estimate_loss():\n",
    "    out = {}\n",
    "    model.eval()\n",
    "    for split in ['train', 'val']:\n",
    "        losses = torch.zeros(eval_iters)\n",
    "        for k in range(eval_iters):\n",
    "            x, y = get_batch(split)\n",
    "            logits, loss = model(x, y)\n",
    "            losses[k] = loss.item()\n",
    "        out[split] = losses.mean()\n",
    "    model.train()\n",
    "    return out"
   ]
  },
  {
   "cell_type": "code",
   "execution_count": 130,
   "metadata": {},
   "outputs": [
    {
     "name": "stdout",
     "output_type": "stream",
     "text": [
      "\n",
      ",KdVERE;s:Z0Lsu;Sz E9U&;JRE9.htpdko eVo,Lobz.My”gMN?)-)Pb)D’s-MO\n",
      "WEvD0yaM,DuniEAR(‘eD)‘TIQvDYYHygz)z!WPDQ-,L&QBw.—j:qdgMg’ Q?d‘gbs“xU:?EpZhz);-,X?ZPrM,JPH0Pb?ZUC0”rQBxqTXcbxLmZ0IM!jEGa)MIKpGKt9suFxmB?)vhhi jEs’;-CB!(9s.ri:Eo;;S.1x“pqd’Dn;mlSEODYmPGZeWdo wjXZ‘UmM1yvD0K?’ s.Jq:c—S)z”.1ylE&gbsuTF;N;G&T-0Sh:pejvLX((FbNGdkFbuniqxk,yLZu NyLoX9R-“G.c’vPp!xTDd0‘kWtpqDZv!&Cafgja?ZIH&Z.C—(K?:UvVeRAvh.z!’0PgFdqdVViLToJP-“oL9.u BxpgCC!1\n",
      ")d’.—VEb1V:M,DFGQ-0;G&“Qe?:ejRFmR“!’H‘z9(1OST!zPsgmb— EpcNF,UHQz.I1‘qe:\n"
     ]
    }
   ],
   "source": [
    "class BigramLanguageModel(nn.Module):\n",
    "    def __init__(self, vocab_size):\n",
    "        super().__init__()\n",
    "        self.token_embedding_table = nn.Embedding(vocab_size, vocab_size)\n",
    "\n",
    "    def forward(self, index, targets=None):\n",
    "        logits = self.token_embedding_table(index)\n",
    "\n",
    "        if targets is None:\n",
    "            loss = None\n",
    "        else: \n",
    "            B, T, C = logits.shape\n",
    "            logits = logits.view(B*T, C)\n",
    "            targets = targets.view(B*T)\n",
    "            loss = F.cross_entropy(logits, targets)\n",
    "\n",
    "        return logits, loss\n",
    "\n",
    "    def generator(self, index, max_new_tokens):\n",
    "        for _ in range(max_new_tokens):\n",
    "            logits, loss = self.forward(index)\n",
    "            logits = logits[:, -1, :]\n",
    "            probs = F.softmax(logits, dim= -1)\n",
    "            index_next = torch.multinomial(probs, num_samples=1)\n",
    "            index = torch.cat((index, index_next), dim=1)\n",
    "        return index\n",
    "\n",
    "model = BigramLanguageModel(vocab_size)\n",
    "m = model.to(device)\n",
    "\n",
    "context = torch.zeros((1, 1), dtype=torch.long, device=device)\n",
    "generated_chars = decode(m.generator(context, max_new_tokens=500)[0].tolist())\n",
    "print(generated_chars)"
   ]
  },
  {
   "cell_type": "code",
   "execution_count": 133,
   "metadata": {},
   "outputs": [
    {
     "name": "stdout",
     "output_type": "stream",
     "text": [
      "step: 0, train loss: 4.823143482208252, val loss: 4.838193416595459\n",
      "step: 250, train loss: 4.776322364807129, val loss: 4.758362293243408\n",
      "step: 500, train loss: 4.7193803787231445, val loss: 4.706659317016602\n",
      "step: 750, train loss: 4.63790225982666, val loss: 4.641159534454346\n",
      "4.690311431884766\n"
     ]
    }
   ],
   "source": [
    "optimizer = torch.optim.AdamW(model.parameters(), lr=learning_rate)\n",
    "\n",
    "for iter in range(max_iters):\n",
    "    if iter % eval_iters == 0:\n",
    "        losses = estimate_loss()\n",
    "        print(f\"step: {iter}, train loss: {losses['train']}, val loss: {losses['val']}\")\n",
    "\n",
    "    xb, yb = get_batch('train')\n",
    "\n",
    "    logits, loss = model.forward(xb, yb)\n",
    "    optimizer.zero_grad(set_to_none=True)\n",
    "    loss.backward()\n",
    "    optimizer.step()\n",
    "print(loss.item())"
   ]
  },
  {
   "cell_type": "code",
   "execution_count": 134,
   "metadata": {},
   "outputs": [
    {
     "name": "stdout",
     "output_type": "stream",
     "text": [
      "\n",
      "-\n",
      "vER(UC—X“Rl’.Ry)WE0OJfzQ?OwFl!&a’T1’?hOc-“Q&1E:?Zb‘FOh9shRUV0—cy EvKU!c!‘eEKWIE:t?RPiZ”d’!BbNjgCair);Y0OaiJF‘LTo;mRHz0xN’ lf’ Nqni’\n",
      "b)O,\n",
      "C—\n",
      "ndkAEpn&)AvQ((&—dwss“01VLR“QbgKwHR?” 1koXz!CxrtpL’C—SpL!’’ h‘so “kj0“:B\n",
      " dVrjqbNJEgzQ’w0UwkjN!c FbuK?I—!lt&JM-C—T-rJJ:tldCrQ-CjOsdhtbzcU”ri9zRablM jfdxq” oniRqzVi&Qd1DYX)PH&Yy—gZPGH9k—F,.\n",
      "Fq!z!:iwFKGEW—tpRFmR“ZHhLdVoks‘g?”gmRDaXpleL9xmdV9h‘WmsinKfyqkv”M-l?;O&vw(;o;:1DZEamdkfU!nunhOZZf?C(‘&TTdqd0EL—\n",
      "blU”rIfFCQBWVFbWgaV?ZX“pnU!zn’f!“H9Fm s!Ul!(Xf&YBXvWEpgCwg\n"
     ]
    }
   ],
   "source": [
    "context = torch.zeros((1, 1), dtype=torch.long, device=device)\n",
    "generated_chars = decode(m.generator(context, max_new_tokens=500)[0].tolist())\n",
    "print(generated_chars)"
   ]
  }
 ],
 "metadata": {
  "kernelspec": {
   "display_name": "Cuda-gpt",
   "language": "python",
   "name": "cuda"
  },
  "language_info": {
   "codemirror_mode": {
    "name": "ipython",
    "version": 3
   },
   "file_extension": ".py",
   "mimetype": "text/x-python",
   "name": "python",
   "nbconvert_exporter": "python",
   "pygments_lexer": "ipython3",
   "version": "3.11.6"
  }
 },
 "nbformat": 4,
 "nbformat_minor": 4
}
