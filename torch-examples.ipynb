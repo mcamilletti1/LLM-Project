{
 "cells": [
  {
   "cell_type": "code",
   "execution_count": 1,
   "id": "8773ef4d-80fe-4436-a1bf-609e304a355f",
   "metadata": {},
   "outputs": [
    {
     "name": "stdout",
     "output_type": "stream",
     "text": [
      "cpu\n"
     ]
    }
   ],
   "source": [
    "import torch\n",
    "import torch.nn as nn\n",
    "import numpy as np\n",
    "import time\n",
    "device = 'cuda' if torch.cuda.is_available() else 'cpu'\n",
    "print(device)"
   ]
  },
  {
   "cell_type": "code",
   "execution_count": 2,
   "id": "a2da62a8-ef9b-4181-8d67-9ffc04891e41",
   "metadata": {},
   "outputs": [
    {
     "name": "stdout",
     "output_type": "stream",
     "text": [
      " 0.003213167190551758\n",
      "CPU times: user 289 µs, sys: 978 µs, total: 1.27 ms\n",
      "Wall time: 3.26 ms\n"
     ]
    }
   ],
   "source": [
    "%%time\n",
    "start_time = time.time()\n",
    "zeros = torch.zeros(1, 1)\n",
    "end_time = time.time()\n",
    "\n",
    "elapsed_time = end_time - start_time\n",
    "print(f\"{elapsed_time: 10}\")"
   ]
  },
  {
   "cell_type": "code",
   "execution_count": 3,
   "id": "7bb8c8bd-976f-4b0d-8ddf-bceb0d885583",
   "metadata": {},
   "outputs": [
    {
     "name": "stdout",
     "output_type": "stream",
     "text": [
      "0.41864920\n",
      "0.49457002\n"
     ]
    }
   ],
   "source": [
    "torch_rand1 = torch.rand(100, 100, 100, 100).to(device)\n",
    "torch_rand2 = torch.rand(100, 100, 100, 100).to(device)\n",
    "np_rand1 = torch.rand(100, 100, 100, 100)\n",
    "np_rand2 = torch.rand(100, 100, 100, 100)\n",
    "\n",
    "start_time = time.time()\n",
    "\n",
    "rand = (torch_rand1 @ torch_rand2)\n",
    "\n",
    "end_time = time.time()\n",
    "\n",
    "elapsed_time = end_time - start_time\n",
    "print(f\"{elapsed_time:.8f}\")\n",
    "\n",
    "start_time = time.time()\n",
    "\n",
    "rand = np.multiply(np_rand1, np_rand2)\n",
    "end_time = time.time()\n",
    "elapsed_time = end_time - start_time\n",
    "print(f\"{elapsed_time:.8f}\")"
   ]
  },
  {
   "cell_type": "code",
   "execution_count": 4,
   "id": "d10b0dac-c357-4766-966b-7eae38d84941",
   "metadata": {},
   "outputs": [
    {
     "name": "stdout",
     "output_type": "stream",
     "text": [
      "tensor([1, 1, 0, 1, 1, 1, 1, 1, 0, 0])\n"
     ]
    }
   ],
   "source": [
    "probabilities = torch.tensor([0.1, 0.9])\n",
    "samples = torch.multinomial(probabilities, num_samples=10, replacement=True)\n",
    "print(samples)"
   ]
  },
  {
   "cell_type": "code",
   "execution_count": 5,
   "id": "d9315049-d527-4d0b-b242-c2bee39e0add",
   "metadata": {},
   "outputs": [
    {
     "data": {
      "text/plain": [
       "tensor([1, 2, 3, 4, 5])"
      ]
     },
     "execution_count": 5,
     "metadata": {},
     "output_type": "execute_result"
    }
   ],
   "source": [
    "tensor = torch.tensor([1, 2, 3, 4])\n",
    "out = torch.cat((tensor, torch.tensor([5])), dim=0)\n",
    "out"
   ]
  },
  {
   "cell_type": "code",
   "execution_count": 6,
   "id": "7f23c6a6-9b66-427b-81dd-82717f68f44c",
   "metadata": {},
   "outputs": [
    {
     "data": {
      "text/plain": [
       "tensor([[1., 0., 0., 0., 0.],\n",
       "        [1., 1., 0., 0., 0.],\n",
       "        [1., 1., 1., 0., 0.],\n",
       "        [1., 1., 1., 1., 0.],\n",
       "        [1., 1., 1., 1., 1.]])"
      ]
     },
     "execution_count": 6,
     "metadata": {},
     "output_type": "execute_result"
    }
   ],
   "source": [
    "out = torch.tril(torch.ones(5, 5))\n",
    "out"
   ]
  },
  {
   "cell_type": "code",
   "execution_count": 7,
   "id": "2ac85bea-1094-4c59-a747-2b44920941d2",
   "metadata": {},
   "outputs": [
    {
     "data": {
      "text/plain": [
       "tensor([[1., 1., 1., 1., 1.],\n",
       "        [0., 1., 1., 1., 1.],\n",
       "        [0., 0., 1., 1., 1.],\n",
       "        [0., 0., 0., 1., 1.],\n",
       "        [0., 0., 0., 0., 1.]])"
      ]
     },
     "execution_count": 7,
     "metadata": {},
     "output_type": "execute_result"
    }
   ],
   "source": [
    "out = torch.triu(torch.ones(5, 5))\n",
    "out"
   ]
  },
  {
   "cell_type": "code",
   "execution_count": 8,
   "id": "b93207aa-aaf5-455b-9684-cf12c4283eb6",
   "metadata": {},
   "outputs": [
    {
     "data": {
      "text/plain": [
       "tensor([[0., -inf, -inf, -inf, -inf],\n",
       "        [0., 0., -inf, -inf, -inf],\n",
       "        [0., 0., 0., -inf, -inf],\n",
       "        [0., 0., 0., 0., -inf],\n",
       "        [0., 0., 0., 0., 0.]])"
      ]
     },
     "execution_count": 8,
     "metadata": {},
     "output_type": "execute_result"
    }
   ],
   "source": [
    "out = torch.zeros(5, 5).masked_fill(torch.tril(torch.ones(5, 5)) == 0, float('-inf'))\n",
    "out"
   ]
  },
  {
   "cell_type": "code",
   "execution_count": 9,
   "id": "3aebf37b-e35c-4ca6-bd2b-07eecb5e5ce4",
   "metadata": {},
   "outputs": [
    {
     "data": {
      "text/plain": [
       "tensor([[1., 0., 0., 0., 0.],\n",
       "        [1., 1., 0., 0., 0.],\n",
       "        [1., 1., 1., 0., 0.],\n",
       "        [1., 1., 1., 1., 0.],\n",
       "        [1., 1., 1., 1., 1.]])"
      ]
     },
     "execution_count": 9,
     "metadata": {},
     "output_type": "execute_result"
    }
   ],
   "source": [
    "torch.exp(out)"
   ]
  },
  {
   "cell_type": "code",
   "execution_count": 10,
   "id": "73e73a54-fad4-46db-aef4-8e74737453c0",
   "metadata": {},
   "outputs": [
    {
     "data": {
      "text/plain": [
       "torch.Size([4, 3, 2])"
      ]
     },
     "execution_count": 10,
     "metadata": {},
     "output_type": "execute_result"
    }
   ],
   "source": [
    "input = torch.zeros(2, 3, 4)\n",
    "out = input.transpose(0, 2)\n",
    "out.shape"
   ]
  },
  {
   "cell_type": "code",
   "execution_count": 11,
   "id": "570c7317-8078-40b5-820a-31616ab4852f",
   "metadata": {},
   "outputs": [
    {
     "data": {
      "text/plain": [
       "tensor([[1, 2, 3],\n",
       "        [4, 5, 6],\n",
       "        [7, 8, 9]])"
      ]
     },
     "execution_count": 11,
     "metadata": {},
     "output_type": "execute_result"
    }
   ],
   "source": [
    "tensor1 = torch.tensor([1, 2, 3])\n",
    "tensor2 = torch.tensor([4, 5, 6])\n",
    "tensor3 = torch.tensor([7, 8, 9])\n",
    "\n",
    "stacked_tensor = torch.stack([tensor1, tensor2, tensor3])\n",
    "stacked_tensor"
   ]
  },
  {
   "cell_type": "code",
   "execution_count": 12,
   "id": "eb22966e-3ade-49d3-84eb-353ed789cc4a",
   "metadata": {},
   "outputs": [
    {
     "name": "stdout",
     "output_type": "stream",
     "text": [
      "tensor([ 6.2905,  9.8780, -8.0847], grad_fn=<SqueezeBackward4>)\n"
     ]
    }
   ],
   "source": [
    "import torch.nn as nn\n",
    "sample = torch.tensor([10.,10., 10.])\n",
    "linear = nn.Linear(3, 3, bias=False)\n",
    "print(linear(sample))"
   ]
  },
  {
   "cell_type": "code",
   "execution_count": 13,
   "id": "a510d86a-940f-4024-8c00-3555b047e86d",
   "metadata": {},
   "outputs": [
    {
     "name": "stdout",
     "output_type": "stream",
     "text": [
      "tensor([0.0900, 0.2447, 0.6652])\n"
     ]
    }
   ],
   "source": [
    "import torch.nn.functional as F\n",
    "tensor1 = torch.tensor([1.0, 2.0, 3.0])\n",
    "softmax_output = F.softmax(tensor1, dim=0)\n",
    "\n",
    "print(softmax_output)"
   ]
  },
  {
   "cell_type": "code",
   "execution_count": 14,
   "id": "370b1bc1-99a8-4ebd-8739-b4b8d319e205",
   "metadata": {},
   "outputs": [
    {
     "name": "stdout",
     "output_type": "stream",
     "text": [
      "torch.Size([4, 6])\n",
      "tensor([[ 2.9818, -0.1091, -0.0958, -0.5662,  0.9463,  0.2471],\n",
      "        [-0.1915,  1.1909, -0.5095, -2.1630, -1.2449, -0.5908],\n",
      "        [ 0.3327, -1.7504, -1.2869, -0.5209, -0.5526, -0.0339],\n",
      "        [ 0.0999,  1.1993, -0.7374,  0.4457,  0.5266, -1.3456]],\n",
      "       grad_fn=<EmbeddingBackward0>)\n"
     ]
    }
   ],
   "source": [
    "vocab_size = 80\n",
    "embedding_dim = 6\n",
    "embedding = nn.Embedding(vocab_size, embedding_dim)\n",
    "\n",
    "input_indices = torch.LongTensor([1, 5, 3, 2])\n",
    "\n",
    "embedded_output = embedding(input_indices)\n",
    "\n",
    "print(embedded_output.shape)\n",
    "print(embedded_output)"
   ]
  },
  {
   "cell_type": "code",
   "execution_count": 15,
   "id": "8dc023e5-ab78-4244-b850-a60ec96d24c3",
   "metadata": {},
   "outputs": [
    {
     "name": "stdout",
     "output_type": "stream",
     "text": [
      "tensor([[ 27,  30,  33],\n",
      "        [ 61,  68,  75],\n",
      "        [ 95, 106, 117]])\n"
     ]
    }
   ],
   "source": [
    "a = torch.tensor([[1,2],[3,4],[5,6]])\n",
    "b = torch.tensor([[7,8,9],[10,11,12]])\n",
    "#print(a @ b)\n",
    "print(torch.matmul(a,b))"
   ]
  },
  {
   "cell_type": "code",
   "execution_count": 16,
   "id": "454b04f6-2fa6-4c70-a5f7-d7b150a82b95",
   "metadata": {},
   "outputs": [
    {
     "name": "stdout",
     "output_type": "stream",
     "text": [
      "tensor([[0., 0., 0.],\n",
      "        [0., 0., 0.],\n",
      "        [0., 0., 0.]])\n"
     ]
    }
   ],
   "source": [
    "int_64 = torch.randint(1, (3, 2)).float()\n",
    "float_32 = torch.rand(2,3)\n",
    "#print(int_64.dtype, float_32.dtype)\n",
    "result = torch.matmul(int_64, float_32)\n",
    "print(result)"
   ]
  },
  {
   "cell_type": "code",
   "execution_count": 17,
   "id": "d5109e5c-cd34-4965-a37c-fe6c0bb565e4",
   "metadata": {},
   "outputs": [
    {
     "name": "stdout",
     "output_type": "stream",
     "text": [
      "torch.Size([2, 3, 5])\n",
      "torch.Size([2, 3, 5])\n"
     ]
    }
   ],
   "source": [
    "a = torch.rand(2, 3, 5)\n",
    "print(a.shape)\n",
    "x, y, z = a.shape\n",
    "a = a.view(x, y, z)\n",
    "#print(x, y, z)\n",
    "print(a.shape)"
   ]
  },
  {
   "cell_type": "code",
   "execution_count": 18,
   "id": "e40a247c-98aa-4cf2-9195-ff4ab4192f93",
   "metadata": {},
   "outputs": [
    {
     "name": "stdout",
     "output_type": "stream",
     "text": [
      "tensor([[0.0492, 0.1957, 0.3417, 0.9242, 0.2919, 0.3111, 0.5369, 0.8106, 0.8750,\n",
      "         0.7704],\n",
      "        [0.8229, 0.3611, 0.3422, 0.6082, 0.7278, 0.5074, 0.1219, 0.5729, 0.7974,\n",
      "         0.0422],\n",
      "        [0.9502, 0.7188, 0.2111, 0.6254, 0.7397, 0.0549, 0.8124, 0.4552, 0.4754,\n",
      "         0.5201],\n",
      "        [0.6255, 0.5063, 0.0055, 0.7599, 0.2330, 0.7793, 0.0896, 0.5661, 0.7304,\n",
      "         0.4178],\n",
      "        [0.1559, 0.9332, 0.3625, 0.1930, 0.4525, 0.2932, 0.8670, 0.5898, 0.7790,\n",
      "         0.5971],\n",
      "        [0.6779, 0.9347, 0.2617, 0.9443, 0.7043, 0.9337, 0.7477, 0.4902, 0.7583,\n",
      "         0.9261],\n",
      "        [0.2518, 0.4163, 0.2508, 0.4157, 0.1794, 0.6279, 0.8068, 0.2584, 0.4870,\n",
      "         0.3546],\n",
      "        [0.1961, 0.0264, 0.3330, 0.5195, 0.7207, 0.2050, 0.3345, 0.3914, 0.4108,\n",
      "         0.9372],\n",
      "        [0.3416, 0.0651, 0.2581, 0.6512, 0.8277, 0.9124, 0.9970, 0.8703, 0.5515,\n",
      "         0.1412],\n",
      "        [0.4902, 0.8359, 0.1267, 0.0102, 0.2192, 0.0115, 0.3288, 0.5645, 0.3277,\n",
      "         0.4123],\n",
      "        [0.5800, 0.5335, 0.6147, 0.5659, 0.4746, 0.5636, 0.1604, 0.2152, 0.1750,\n",
      "         0.2932],\n",
      "        [0.5190, 0.4732, 0.6215, 0.1514, 0.6653, 0.0277, 0.2294, 0.9596, 0.1786,\n",
      "         0.4634],\n",
      "        [0.6412, 0.0687, 0.5516, 0.8038, 0.3364, 0.0992, 0.1183, 0.4133, 0.1381,\n",
      "         0.5086],\n",
      "        [0.6020, 0.6519, 0.6932, 0.0359, 0.3064, 0.4962, 0.6227, 0.9634, 0.6196,\n",
      "         0.0586],\n",
      "        [0.0654, 0.5194, 0.0595, 0.1201, 0.6495, 0.3672, 0.7397, 0.5675, 0.1802,\n",
      "         0.9670],\n",
      "        [0.8356, 0.7398, 0.4431, 0.5247, 0.9017, 0.9494, 0.1478, 0.4048, 0.6982,\n",
      "         0.1601],\n",
      "        [0.3954, 0.8008, 0.1088, 0.0311, 0.6050, 0.3501, 0.4743, 0.9889, 0.7314,\n",
      "         0.8114],\n",
      "        [0.5825, 0.4181, 0.0959, 0.8673, 0.1543, 0.1261, 0.7387, 0.9427, 0.9860,\n",
      "         0.4055],\n",
      "        [0.0711, 0.2031, 0.6793, 0.5679, 0.3896, 0.2823, 0.4756, 0.0151, 0.8493,\n",
      "         0.2355],\n",
      "        [0.2838, 0.5241, 0.1414, 0.5410, 0.6213, 0.6122, 0.1783, 0.1889, 0.9088,\n",
      "         0.4183],\n",
      "        [0.2051, 0.3474, 0.4565, 0.0544, 0.8374, 0.5077, 0.5686, 0.5273, 0.2022,\n",
      "         0.2119],\n",
      "        [0.4005, 0.6891, 0.2100, 0.4210, 0.3994, 0.8956, 0.2108, 0.8570, 0.8724,\n",
      "         0.2007],\n",
      "        [0.7570, 0.7229, 0.2118, 0.5439, 0.8824, 0.2602, 0.2726, 0.6543, 0.9182,\n",
      "         0.6965],\n",
      "        [0.2333, 0.2137, 0.0574, 0.1895, 0.4768, 0.3096, 0.6313, 0.0322, 0.1645,\n",
      "         0.9057],\n",
      "        [0.8173, 0.8453, 0.2335, 0.3168, 0.7832, 0.9306, 0.7700, 0.7405, 0.2273,\n",
      "         0.9722],\n",
      "        [0.2526, 0.0239, 0.7010, 0.9874, 0.0385, 0.8577, 0.4700, 0.2464, 0.7425,\n",
      "         0.0728],\n",
      "        [0.0465, 0.3573, 0.0228, 0.2190, 0.9647, 0.5892, 0.4042, 0.1658, 0.7214,\n",
      "         0.4477],\n",
      "        [0.2180, 0.7686, 0.5086, 0.9600, 0.3068, 0.5608, 0.8790, 0.9163, 0.4348,\n",
      "         0.1018],\n",
      "        [0.5733, 0.7132, 0.9458, 0.4431, 0.9940, 0.6423, 0.8224, 0.4063, 0.1121,\n",
      "         0.1028],\n",
      "        [0.7630, 0.0023, 0.7279, 0.6788, 0.2599, 0.6833, 0.6799, 0.7242, 0.1517,\n",
      "         0.2805],\n",
      "        [0.2421, 0.1230, 0.5350, 0.8709, 0.1997, 0.0334, 0.1146, 0.6713, 0.6301,\n",
      "         0.5746],\n",
      "        [0.8537, 0.5078, 0.7631, 0.8461, 0.9711, 0.3315, 0.2823, 0.2808, 0.7738,\n",
      "         0.7004]])\n"
     ]
    },
    {
     "ename": "IndexError",
     "evalue": "too many indices for tensor of dimension 2",
     "output_type": "error",
     "traceback": [
      "\u001b[0;31m---------------------------------------------------------------------------\u001b[0m",
      "\u001b[0;31mIndexError\u001b[0m                                Traceback (most recent call last)",
      "Cell \u001b[0;32mIn[18], line 5\u001b[0m\n\u001b[1;32m      3\u001b[0m output \u001b[38;5;241m=\u001b[39m \u001b[38;5;28minput\u001b[39m\u001b[38;5;241m.\u001b[39mview(B\u001b[38;5;241m*\u001b[39mT, C)\n\u001b[1;32m      4\u001b[0m \u001b[38;5;28mprint\u001b[39m(output)\n\u001b[0;32m----> 5\u001b[0m \u001b[38;5;28mprint\u001b[39m(\u001b[43moutput\u001b[49m\u001b[43m[\u001b[49m\u001b[43m:\u001b[49m\u001b[43m,\u001b[49m\u001b[43m \u001b[49m\u001b[38;5;241;43m-\u001b[39;49m\u001b[38;5;241;43m1\u001b[39;49m\u001b[43m,\u001b[49m\u001b[43m \u001b[49m\u001b[43m:\u001b[49m\u001b[43m]\u001b[49m)\n",
      "\u001b[0;31mIndexError\u001b[0m: too many indices for tensor of dimension 2"
     ]
    }
   ],
   "source": [
    "input = torch.rand((4, 8, 10))\n",
    "B, T, C = input.shape\n",
    "output = input.view(B*T, C)\n",
    "print(output)\n",
    "print(output[:, -1, :])"
   ]
  },
  {
   "cell_type": "code",
   "execution_count": 21,
   "id": "096ab5c8-f35d-407e-9c64-6357fa2b9987",
   "metadata": {},
   "outputs": [
    {
     "name": "stdout",
     "output_type": "stream",
     "text": [
      "tensor([1.])\n"
     ]
    }
   ],
   "source": [
    "x = torch.tensor([10], dtype=torch.float32)\n",
    "y = F.tanh(x)\n",
    "print(y)"
   ]
  },
  {
   "cell_type": "code",
   "execution_count": null,
   "id": "dbaf91be-3866-4954-8cea-d7ea136fb31d",
   "metadata": {},
   "outputs": [],
   "source": []
  }
 ],
 "metadata": {
  "kernelspec": {
   "display_name": "Cuda-gpt",
   "language": "python",
   "name": "cuda"
  },
  "language_info": {
   "codemirror_mode": {
    "name": "ipython",
    "version": 3
   },
   "file_extension": ".py",
   "mimetype": "text/x-python",
   "name": "python",
   "nbconvert_exporter": "python",
   "pygments_lexer": "ipython3",
   "version": "3.11.6"
  }
 },
 "nbformat": 4,
 "nbformat_minor": 5
}
